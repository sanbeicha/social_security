{
 "cells": [
  {
   "cell_type": "code",
   "execution_count": 116,
   "metadata": {},
   "outputs": [],
   "source": [
    "import pandas as pd\n",
    "import numpy as np\n",
    "import matplotlib.pyplot as plt"
   ]
  },
  {
   "cell_type": "code",
   "execution_count": 390,
   "metadata": {},
   "outputs": [],
   "source": [
    "data01 = pd.read_excel(\"../../2.下载资料/人社部资料/09-01.xls\", header=None,skiprows=11, names=['Year','Total','BPI','UI','BMI','WII','MI'],skipfooter=5)\n",
    "revenue = data01[:28]\n",
    "increaserate = data01[30:]"
   ]
  },
  {
   "cell_type": "code",
   "execution_count": 410,
   "metadata": {},
   "outputs": [
    {
     "data": {
      "text/html": [
       "<div>\n",
       "<style scoped>\n",
       "    .dataframe tbody tr th:only-of-type {\n",
       "        vertical-align: middle;\n",
       "    }\n",
       "\n",
       "    .dataframe tbody tr th {\n",
       "        vertical-align: top;\n",
       "    }\n",
       "\n",
       "    .dataframe thead th {\n",
       "        text-align: right;\n",
       "    }\n",
       "</style>\n",
       "<table border=\"1\" class=\"dataframe\">\n",
       "  <thead>\n",
       "    <tr style=\"text-align: right;\">\n",
       "      <th></th>\n",
       "      <th>Year</th>\n",
       "      <th>Total</th>\n",
       "      <th>BPI</th>\n",
       "      <th>UI</th>\n",
       "      <th>BMI</th>\n",
       "      <th>WII</th>\n",
       "      <th>MI</th>\n",
       "    </tr>\n",
       "  </thead>\n",
       "  <tbody>\n",
       "    <tr>\n",
       "      <th>30</th>\n",
       "      <td>1990</td>\n",
       "      <td>21.608659</td>\n",
       "      <td>21.854567</td>\n",
       "      <td>5.882353</td>\n",
       "      <td>NaN</td>\n",
       "      <td>NaN</td>\n",
       "      <td>NaN</td>\n",
       "    </tr>\n",
       "    <tr>\n",
       "      <th>31</th>\n",
       "      <td>1991</td>\n",
       "      <td>20.455547</td>\n",
       "      <td>20.630273</td>\n",
       "      <td>29.166667</td>\n",
       "      <td>NaN</td>\n",
       "      <td>NaN</td>\n",
       "      <td>NaN</td>\n",
       "    </tr>\n",
       "    <tr>\n",
       "      <th>32</th>\n",
       "      <td>1992</td>\n",
       "      <td>67.733333</td>\n",
       "      <td>69.565024</td>\n",
       "      <td>25.806452</td>\n",
       "      <td>NaN</td>\n",
       "      <td>NaN</td>\n",
       "      <td>NaN</td>\n",
       "    </tr>\n",
       "    <tr>\n",
       "      <th>33</th>\n",
       "      <td>1993</td>\n",
       "      <td>39.401166</td>\n",
       "      <td>37.667306</td>\n",
       "      <td>52.991453</td>\n",
       "      <td>NaN</td>\n",
       "      <td>NaN</td>\n",
       "      <td>NaN</td>\n",
       "    </tr>\n",
       "    <tr>\n",
       "      <th>34</th>\n",
       "      <td>1994</td>\n",
       "      <td>41.037826</td>\n",
       "      <td>40.490173</td>\n",
       "      <td>41.899441</td>\n",
       "      <td>119.860676</td>\n",
       "      <td>90.390001</td>\n",
       "      <td>73.843794</td>\n",
       "    </tr>\n",
       "    <tr>\n",
       "      <th>35</th>\n",
       "      <td>1995</td>\n",
       "      <td>35.583046</td>\n",
       "      <td>34.297116</td>\n",
       "      <td>38.918110</td>\n",
       "      <td>206.286239</td>\n",
       "      <td>77.533098</td>\n",
       "      <td>99.355277</td>\n",
       "    </tr>\n",
       "    <tr>\n",
       "      <th>36</th>\n",
       "      <td>1996</td>\n",
       "      <td>24.492822</td>\n",
       "      <td>23.336986</td>\n",
       "      <td>28.238213</td>\n",
       "      <td>96.637943</td>\n",
       "      <td>34.696578</td>\n",
       "      <td>87.822979</td>\n",
       "    </tr>\n",
       "    <tr>\n",
       "      <th>37</th>\n",
       "      <td>1997</td>\n",
       "      <td>16.426080</td>\n",
       "      <td>14.178727</td>\n",
       "      <td>3.735145</td>\n",
       "      <td>175.141516</td>\n",
       "      <td>24.569167</td>\n",
       "      <td>34.913817</td>\n",
       "    </tr>\n",
       "    <tr>\n",
       "      <th>38</th>\n",
       "      <td>1998</td>\n",
       "      <td>11.311103</td>\n",
       "      <td>9.049117</td>\n",
       "      <td>45.720328</td>\n",
       "      <td>15.855449</td>\n",
       "      <td>55.898199</td>\n",
       "      <td>31.120694</td>\n",
       "    </tr>\n",
       "    <tr>\n",
       "      <th>39</th>\n",
       "      <td>1999</td>\n",
       "      <td>36.273944</td>\n",
       "      <td>34.691605</td>\n",
       "      <td>83.098757</td>\n",
       "      <td>48.312330</td>\n",
       "      <td>-1.293980</td>\n",
       "      <td>10.130019</td>\n",
       "    </tr>\n",
       "    <tr>\n",
       "      <th>40</th>\n",
       "      <td>2000</td>\n",
       "      <td>19.578766</td>\n",
       "      <td>15.947407</td>\n",
       "      <td>28.109371</td>\n",
       "      <td>89.168762</td>\n",
       "      <td>18.678424</td>\n",
       "      <td>3.782748</td>\n",
       "    </tr>\n",
       "    <tr>\n",
       "      <th>41</th>\n",
       "      <td>2001</td>\n",
       "      <td>17.278506</td>\n",
       "      <td>9.236805</td>\n",
       "      <td>16.753800</td>\n",
       "      <td>125.650477</td>\n",
       "      <td>14.150167</td>\n",
       "      <td>23.065959</td>\n",
       "    </tr>\n",
       "    <tr>\n",
       "      <th>42</th>\n",
       "      <td>2002</td>\n",
       "      <td>30.522059</td>\n",
       "      <td>27.421089</td>\n",
       "      <td>15.094702</td>\n",
       "      <td>58.440958</td>\n",
       "      <td>13.249941</td>\n",
       "      <td>58.892086</td>\n",
       "    </tr>\n",
       "    <tr>\n",
       "      <th>43</th>\n",
       "      <td>2003</td>\n",
       "      <td>20.605256</td>\n",
       "      <td>16.034861</td>\n",
       "      <td>15.723562</td>\n",
       "      <td>46.433842</td>\n",
       "      <td>17.384450</td>\n",
       "      <td>18.275380</td>\n",
       "    </tr>\n",
       "    <tr>\n",
       "      <th>44</th>\n",
       "      <td>2004</td>\n",
       "      <td>18.378423</td>\n",
       "      <td>15.717391</td>\n",
       "      <td>16.553106</td>\n",
       "      <td>28.146067</td>\n",
       "      <td>55.053191</td>\n",
       "      <td>24.418605</td>\n",
       "    </tr>\n",
       "    <tr>\n",
       "      <th>45</th>\n",
       "      <td>2005</td>\n",
       "      <td>20.671937</td>\n",
       "      <td>19.605955</td>\n",
       "      <td>17.022008</td>\n",
       "      <td>23.217887</td>\n",
       "      <td>58.662093</td>\n",
       "      <td>36.448598</td>\n",
       "    </tr>\n",
       "    <tr>\n",
       "      <th>46</th>\n",
       "      <td>2006</td>\n",
       "      <td>23.913293</td>\n",
       "      <td>23.884319</td>\n",
       "      <td>18.248604</td>\n",
       "      <td>24.322209</td>\n",
       "      <td>31.675676</td>\n",
       "      <td>41.780822</td>\n",
       "    </tr>\n",
       "    <tr>\n",
       "      <th>47</th>\n",
       "      <td>2007</td>\n",
       "      <td>25.096029</td>\n",
       "      <td>24.159244</td>\n",
       "      <td>17.221670</td>\n",
       "      <td>29.196955</td>\n",
       "      <td>35.960591</td>\n",
       "      <td>34.621578</td>\n",
       "    </tr>\n",
       "    <tr>\n",
       "      <th>48</th>\n",
       "      <td>2008</td>\n",
       "      <td>26.671476</td>\n",
       "      <td>24.329223</td>\n",
       "      <td>24.040704</td>\n",
       "      <td>34.697856</td>\n",
       "      <td>30.857488</td>\n",
       "      <td>36.004785</td>\n",
       "    </tr>\n",
       "    <tr>\n",
       "      <th>49</th>\n",
       "      <td>2009</td>\n",
       "      <td>17.665613</td>\n",
       "      <td>17.972937</td>\n",
       "      <td>-0.803281</td>\n",
       "      <td>20.770293</td>\n",
       "      <td>10.798339</td>\n",
       "      <td>16.446790</td>\n",
       "    </tr>\n",
       "    <tr>\n",
       "      <th>50</th>\n",
       "      <td>2010</td>\n",
       "      <td>19.611611</td>\n",
       "      <td>20.730475</td>\n",
       "      <td>11.953313</td>\n",
       "      <td>17.348754</td>\n",
       "      <td>18.677759</td>\n",
       "      <td>20.528852</td>\n",
       "    </tr>\n",
       "    <tr>\n",
       "      <th>51</th>\n",
       "      <td>2011</td>\n",
       "      <td>30.489366</td>\n",
       "      <td>29.783896</td>\n",
       "      <td>42.059501</td>\n",
       "      <td>28.551139</td>\n",
       "      <td>63.693137</td>\n",
       "      <td>37.754245</td>\n",
       "    </tr>\n",
       "    <tr>\n",
       "      <th>52</th>\n",
       "      <td>2012</td>\n",
       "      <td>22.205697</td>\n",
       "      <td>21.246850</td>\n",
       "      <td>23.383976</td>\n",
       "      <td>25.265523</td>\n",
       "      <td>12.923619</td>\n",
       "      <td>38.385469</td>\n",
       "    </tr>\n",
       "    <tr>\n",
       "      <th>53</th>\n",
       "      <td>2013</td>\n",
       "      <td>14.685638</td>\n",
       "      <td>13.295304</td>\n",
       "      <td>13.168635</td>\n",
       "      <td>18.873657</td>\n",
       "      <td>16.718393</td>\n",
       "      <td>21.092585</td>\n",
       "    </tr>\n",
       "    <tr>\n",
       "      <th>54</th>\n",
       "      <td>2014</td>\n",
       "      <td>12.977061</td>\n",
       "      <td>11.673880</td>\n",
       "      <td>7.051835</td>\n",
       "      <td>17.445827</td>\n",
       "      <td>13.012114</td>\n",
       "      <td>21.085650</td>\n",
       "    </tr>\n",
       "    <tr>\n",
       "      <th>55</th>\n",
       "      <td>2015</td>\n",
       "      <td>15.527821</td>\n",
       "      <td>16.566245</td>\n",
       "      <td>-0.869727</td>\n",
       "      <td>15.542871</td>\n",
       "      <td>8.554241</td>\n",
       "      <td>12.486235</td>\n",
       "    </tr>\n",
       "    <tr>\n",
       "      <th>56</th>\n",
       "      <td>2016</td>\n",
       "      <td>16.410012</td>\n",
       "      <td>18.000431</td>\n",
       "      <td>-10.153623</td>\n",
       "      <td>16.897658</td>\n",
       "      <td>-2.300682</td>\n",
       "      <td>4.018665</td>\n",
       "    </tr>\n",
       "  </tbody>\n",
       "</table>\n",
       "</div>"
      ],
      "text/plain": [
       "    Year      Total        BPI         UI         BMI        WII         MI\n",
       "30  1990  21.608659  21.854567   5.882353         NaN        NaN        NaN\n",
       "31  1991  20.455547  20.630273  29.166667         NaN        NaN        NaN\n",
       "32  1992  67.733333  69.565024  25.806452         NaN        NaN        NaN\n",
       "33  1993  39.401166  37.667306  52.991453         NaN        NaN        NaN\n",
       "34  1994  41.037826  40.490173  41.899441  119.860676  90.390001  73.843794\n",
       "35  1995  35.583046  34.297116  38.918110  206.286239  77.533098  99.355277\n",
       "36  1996  24.492822  23.336986  28.238213   96.637943  34.696578  87.822979\n",
       "37  1997  16.426080  14.178727   3.735145  175.141516  24.569167  34.913817\n",
       "38  1998  11.311103   9.049117  45.720328   15.855449  55.898199  31.120694\n",
       "39  1999  36.273944  34.691605  83.098757   48.312330  -1.293980  10.130019\n",
       "40  2000  19.578766  15.947407  28.109371   89.168762  18.678424   3.782748\n",
       "41  2001  17.278506   9.236805  16.753800  125.650477  14.150167  23.065959\n",
       "42  2002  30.522059  27.421089  15.094702   58.440958  13.249941  58.892086\n",
       "43  2003  20.605256  16.034861  15.723562   46.433842  17.384450  18.275380\n",
       "44  2004  18.378423  15.717391  16.553106   28.146067  55.053191  24.418605\n",
       "45  2005  20.671937  19.605955  17.022008   23.217887  58.662093  36.448598\n",
       "46  2006  23.913293  23.884319  18.248604   24.322209  31.675676  41.780822\n",
       "47  2007  25.096029  24.159244  17.221670   29.196955  35.960591  34.621578\n",
       "48  2008  26.671476  24.329223  24.040704   34.697856  30.857488  36.004785\n",
       "49  2009  17.665613  17.972937  -0.803281   20.770293  10.798339  16.446790\n",
       "50  2010  19.611611  20.730475  11.953313   17.348754  18.677759  20.528852\n",
       "51  2011  30.489366  29.783896  42.059501   28.551139  63.693137  37.754245\n",
       "52  2012  22.205697  21.246850  23.383976   25.265523  12.923619  38.385469\n",
       "53  2013  14.685638  13.295304  13.168635   18.873657  16.718393  21.092585\n",
       "54  2014  12.977061  11.673880   7.051835   17.445827  13.012114  21.085650\n",
       "55  2015  15.527821  16.566245  -0.869727   15.542871   8.554241  12.486235\n",
       "56  2016  16.410012  18.000431 -10.153623   16.897658  -2.300682   4.018665"
      ]
     },
     "execution_count": 410,
     "metadata": {},
     "output_type": "execute_result"
    }
   ],
   "source": [
    "increaserate"
   ]
  },
  {
   "cell_type": "code",
   "execution_count": 147,
   "metadata": {},
   "outputs": [
    {
     "data": {
      "text/plain": [
       "array(['Year', 'Total', 'BPI', 'UI', 'BMI', 'WII', 'MI'], dtype=object)"
      ]
     },
     "execution_count": 147,
     "metadata": {},
     "output_type": "execute_result"
    }
   ],
   "source": [
    "data01.columns.values"
   ]
  },
  {
   "cell_type": "code",
   "execution_count": 148,
   "metadata": {},
   "outputs": [],
   "source": [
    "year = revenue['Year']\n",
    "total = revenue['Total']"
   ]
  },
  {
   "cell_type": "code",
   "execution_count": 290,
   "metadata": {},
   "outputs": [
    {
     "data": {
      "image/png": "[encoded data removed]",
      "text/plain": [
       "<Figure size 576x288 with 1 Axes>"
      ]
     },
     "metadata": {
      "needs_background": "light"
     },
     "output_type": "display_data"
    }
   ],
   "source": [
    "plt.bar(year,total,label='Total Revenue')\n",
    "plt.title('Total Revenue of Social Insurance',fontsize=20,loc='center') \n",
    "plt.xticks(rotation=50,fontsize=10)\n",
    "plt.yticks(fontsize=12)\n",
    "plt.rcParams['figure.figsize'] = (8, 6) \n",
    "plt.show()"
   ]
  },
  {
   "cell_type": "code",
   "execution_count": 151,
   "metadata": {},
   "outputs": [],
   "source": [
    "bpi = revenue['BPI']\n",
    "ui = revenue['UI']\n",
    "bmi = revenue['BMI']\n",
    "wii = revenue['WII']\n",
    "mi = revenue['MI']"
   ]
  },
  {
   "cell_type": "code",
   "execution_count": 291,
   "metadata": {},
   "outputs": [
    {
     "data": {
      "image/png": "[encoded data removed]",
      "text/plain": [
       "<Figure size 576x432 with 1 Axes>"
      ]
     },
     "metadata": {
      "needs_background": "light"
     },
     "output_type": "display_data"
    }
   ],
   "source": [
    "plt.bar(year,bpi,label='Basic Pension Insurance')\n",
    "plt.bar(year,ui,bottom=bpi,label='Unemployment Insurance')\n",
    "plt.bar(year,bmi,bottom=bpi+ui,label='Urban Basic Medical Insurance')\n",
    "plt.bar(year,wii,bottom=bpi+ui+bmi,label='Work Injury Insurance')\n",
    "plt.bar(year,mi,bottom=bpi+ui+bmi+wii,label='Maternity Insurance')\n",
    "plt.legend(loc=[1,0])\n",
    "plt.title('Revenue of Social Insurance',fontsize=20,loc='center') \n",
    "plt.xticks(rotation=50,fontsize=10)\n",
    "plt.yticks(fontsize=12)\n",
    "plt.rcParams['figure.figsize'] = (8, 6) \n",
    "plt.show()"
   ]
  },
  {
   "cell_type": "code",
   "execution_count": 161,
   "metadata": {},
   "outputs": [],
   "source": []
  },
  {
   "cell_type": "code",
   "execution_count": 295,
   "metadata": {},
   "outputs": [],
   "source": [
    "#X means the indepent variable, and the first row is index\n",
    "#Y is a dataframe consisting of dependent variables, and the first row is index\n",
    "#title is the the title of this figure\n",
    "def stacked_bar(X,Y,title): \n",
    "    ncol = Y.shape[1]\n",
    "    colnames = Y.columns.values\n",
    "    plt.bar(X,Y[colnames[0]],label=colnames[0])\n",
    "    for n in range(1,ncol):\n",
    "        plt.bar(X,Y[colnames[n]],bottom=Y[colnames[:n]].sum(axis=1),label=colnames[n])\n",
    "    plt.legend(loc=[1,0])\n",
    "    plt.title('Revenue of Social Insurance',fontsize=20,loc='center') \n",
    "    plt.xticks(rotation=50,fontsize=10)\n",
    "    plt.yticks(fontsize=12)\n",
    "    plt.rcParams['figure.figsize'] = (8, 6) \n",
    "    plt.show()"
   ]
  },
  {
   "cell_type": "code",
   "execution_count": 296,
   "metadata": {},
   "outputs": [],
   "source": [
    "X = revenue['Year']\n",
    "Y = pd.DataFrame(revenue,columns=['BPI','UI','BMI','WII','MI'])\n",
    "title = 'Revenue of Social Insurance'"
   ]
  },
  {
   "cell_type": "code",
   "execution_count": 297,
   "metadata": {},
   "outputs": [
    {
     "data": {
      "image/png": "[encoded data removed]",
      "text/plain": [
       "<Figure size 576x432 with 1 Axes>"
      ]
     },
     "metadata": {
      "needs_background": "light"
     },
     "output_type": "display_data"
    }
   ],
   "source": [
    "stacked_bar(X,Y,title)"
   ]
  },
  {
   "cell_type": "code",
   "execution_count": 267,
   "metadata": {},
   "outputs": [],
   "source": [
    "from statsmodels.tsa.holtwinters import Holt"
   ]
  },
  {
   "cell_type": "code",
   "execution_count": 301,
   "metadata": {},
   "outputs": [
    {
     "data": {
      "image/png": "[encoded data removed]",
      "text/plain": [
       "<Figure size 576x432 with 1 Axes>"
      ]
     },
     "metadata": {
      "needs_background": "light"
     },
     "output_type": "display_data"
    }
   ],
   "source": [
    "data_sr = revenue['BPI']\n",
    "# Holt’s Method\n",
    "fit1 = Holt(data_sr).fit(smoothing_level=0.8, smoothing_slope=0.2, optimized=False)\n",
    "l1, = plt.plot(list(fit1.fittedvalues) + list(fit1.forecast(5)), marker='^')\n",
    "\n",
    "fit2 = Holt(data_sr, exponential=True).fit(smoothing_level=0.8, smoothing_slope=0.2, optimized=False)\n",
    "l2, = plt.plot(list(fit2.fittedvalues) + list(fit2.forecast(5)), marker='.')\n",
    "\n",
    "fit3 = Holt(data_sr, damped=True).fit(smoothing_level=0.8, smoothing_slope=0.2)\n",
    "l3, = plt.plot(list(fit3.fittedvalues) + list(fit3.forecast(5)), marker='.')\n",
    "\n",
    "l4, = plt.plot(data_sr, marker='.')\n",
    "plt.legend(handles = [l1, l2, l3, l4], labels = [\"Holt's linear trend\", \"Exponential trend\", \"Additive damped trend\", 'data'], loc = 'best', prop={'size': 10})\n",
    "plt.show()"
   ]
  },
  {
   "cell_type": "code",
   "execution_count": 412,
   "metadata": {},
   "outputs": [
    {
     "data": {
      "text/plain": [
       "[-0.05336342457092247,\n",
       " 2.3112453036929232,\n",
       " -0.4182898739406378,\n",
       " 0.04153835554083501,\n",
       " -0.13292077781342795,\n",
       " -0.31167156188981987,\n",
       " -0.3293512819579576,\n",
       " -0.3113936677096551,\n",
       " 2.206932645223646,\n",
       " -0.4602526388436343,\n",
       " -0.11748748380473985,\n",
       " 0.7664755980483453,\n",
       " -0.32490610341062903,\n",
       " -0.10807111713926289,\n",
       " 0.12479388610348718,\n",
       " 0.15679978594656357,\n",
       " 0.04945937178432089,\n",
       " 0.06277673412628404,\n",
       " -0.33765897185733484,\n",
       " 0.11015741978283469,\n",
       " 0.5546589188835543,\n",
       " -0.27169044731141595,\n",
       " -0.33865448720223273,\n",
       " -0.11634337993129383,\n",
       " 0.196559152483905,\n",
       " 0.056813557795990434]"
      ]
     },
     "execution_count": 412,
     "metadata": {},
     "output_type": "execute_result"
    }
   ],
   "source": [
    "increase_bpi_1 = []\n",
    "nrow = increaserate.shape[0]\n",
    "for n in range(31,30+nrow):\n",
    "    increase_bpi_1.append((increaserate['Total'][n] - increaserate['Total'][n-1])/increaserate['Total'][n-1])\n",
    "increase_bpi_1"
   ]
  },
  {
   "cell_type": "code",
   "execution_count": 413,
   "metadata": {},
   "outputs": [
    {
     "data": {
      "text/plain": [
       "[-0.05602007325935283,\n",
       " 2.3719875875044996,\n",
       " -0.4585309640992875,\n",
       " 0.07494209766427003,\n",
       " -0.15295211293761518,\n",
       " -0.3195641798764357,\n",
       " -0.39243540080618716,\n",
       " -0.3617820976401016,\n",
       " 2.833700554337779,\n",
       " -0.5403093449317268,\n",
       " -0.42079580684225887,\n",
       " 1.968676852931477,\n",
       " -0.41523618699869086,\n",
       " -0.019798689535678947,\n",
       " 0.24740517740674567,\n",
       " 0.21821753968892235,\n",
       " 0.011510721316511657,\n",
       " 0.007035766403022484,\n",
       " -0.26126137320406934,\n",
       " 0.15342722082382537,\n",
       " 0.43672040875210755,\n",
       " -0.2866329588849725,\n",
       " -0.3742458829435003,\n",
       " -0.1219545855413606,\n",
       " 0.4190864010994154,\n",
       " 0.08657279932562989]"
      ]
     },
     "execution_count": 413,
     "metadata": {},
     "output_type": "execute_result"
    }
   ],
   "source": [
    "increase_bpi_1 = []\n",
    "nrow = increaserate.shape[0]\n",
    "for n in range(31,30+nrow):\n",
    "    increase_bpi_1.append((increaserate['BPI'][n] - increaserate['BPI'][n-1])/increaserate['BPI'][n-1])\n",
    "increase_bpi_1"
   ]
  },
  {
   "cell_type": "code",
   "execution_count": 373,
   "metadata": {},
   "outputs": [
    {
     "data": {
      "text/plain": [
       "[4.819700000000012,\n",
       " 113.167,\n",
       " -12.2834,\n",
       " 66.11009999999993,\n",
       " 38.7419000000001,\n",
       " -20.913000000000125,\n",
       " -55.57199999999989,\n",
       " -45.072599999999966,\n",
       " 385.0727999999999,\n",
       " -192.75649999999996,\n",
       " -102.92430000000013,\n",
       " 472.0395000000003,\n",
       " -173.9608000000003,\n",
       " 69.86069999999972,\n",
       " 256.5000000000009,\n",
       " 381.59999999999945,\n",
       " 307.89999999999964,\n",
       " 381.6000000000013,\n",
       " -155.40000000000236,\n",
       " 631.4973821615204,\n",
       " 1749.7919499723466,\n",
       " -306.4393455334939,\n",
       " -923.0537133239268,\n",
       " -15.138262887947349,\n",
       " 1688.3208050508038,\n",
       " 1219.7445845606999]"
      ]
     },
     "execution_count": 373,
     "metadata": {},
     "output_type": "execute_result"
    }
   ],
   "source": [
    "increase_bpi_2 = []\n",
    "for n in range(1,len(increase_bpi_1)):\n",
    "    increase_bpi_2.append(increase_bpi_1[n] - increase_bpi_1[n-1])\n",
    "increase_bpi_2"
   ]
  },
  {
   "cell_type": "code",
   "execution_count": 378,
   "metadata": {},
   "outputs": [],
   "source": [
    "alpha = 0.5"
   ]
  },
  {
   "cell_type": "code",
   "execution_count": 379,
   "metadata": {},
   "outputs": [
    {
     "data": {
      "text/plain": [
       "array([  146.7469    ,   162.78235   ,   189.245375  ,   277.5056875 ,\n",
       "         390.52294375,   548.97372188,   749.51221094,   960.63805547,\n",
       "        1149.27157773,  1304.12263887,  1634.61886943,  1956.55943472,\n",
       "        2222.76001736,  2697.11035868,  3188.55517934,  3723.47758967,\n",
       "        4408.38879483,  5359.09439742,  6596.64719871,  8168.42359935,\n",
       "        9829.61179968, 11851.25459092, 14928.02065261, 18379.12867675,\n",
       "       21555.88082546, 24587.88590501, 28391.67785251])"
      ]
     },
     "execution_count": 379,
     "metadata": {},
     "output_type": "execute_result"
    }
   ],
   "source": [
    "S1 = np.zeros(nrow-1)\n",
    "S1[0] = revenue['BPI'][0]\n",
    "for n in range(1,len(S1)):\n",
    "    S1[n] = alpha * revenue['BPI'][n] + (1-alpha) * S1[n-1]\n",
    "S1"
   ]
  },
  {
   "cell_type": "code",
   "execution_count": 382,
   "metadata": {},
   "outputs": [
    {
     "data": {
      "text/plain": [
       "24968.221095328605"
      ]
     },
     "execution_count": 382,
     "metadata": {},
     "output_type": "execute_result"
    }
   ],
   "source": [
    "S2 = np.zeros(len(S1))\n",
    "for n in range(len(S2)):\n",
    "    S2[n] = alpha * S1[n] + (1-alpha) * S2[n-1]\n",
    "S2"
   ]
  },
  {
   "cell_type": "code",
   "execution_count": 387,
   "metadata": {},
   "outputs": [
    {
     "data": {
      "text/plain": [
       "array([35238.59136686, 38662.04812404, 42085.50488121, 45508.96163839,\n",
       "       48932.41839557])"
      ]
     },
     "execution_count": 387,
     "metadata": {},
     "output_type": "execute_result"
    }
   ],
   "source": [
    "#predict the value of 2016+t\n",
    "T = [1,2,3,4,5]\n",
    "predict = np.zeros(len(T))\n",
    "for i in range(len(T)):\n",
    "    At = 2 * S1[-1] - S2[-1]\n",
    "    Bt = (alpha/(1-alpha))*(S1[-1] - S2[-1])\n",
    "    predict[i] = At + Bt * T[i]\n",
    "predict"
   ]
  },
  {
   "cell_type": "code",
   "execution_count": 388,
   "metadata": {},
   "outputs": [
    {
     "data": {
      "text/plain": [
       "[<matplotlib.lines.Line2D at 0xd2607aba8>]"
      ]
     },
     "execution_count": 388,
     "metadata": {},
     "output_type": "execute_result"
    },
    {
     "data": {
      "image/png": "[encoded data removed]",
      "text/plain": [
       "<Figure size 576x432 with 1 Axes>"
      ]
     },
     "metadata": {
      "needs_background": "light"
     },
     "output_type": "display_data"
    }
   ],
   "source": [
    "#plot the predicted values\n",
    "plt.plot(list(revenue['BPI'])+list(predict),marker='.')"
   ]
  },
  {
   "cell_type": "code",
   "execution_count": 261,
   "metadata": {},
   "outputs": [],
   "source": []
  },
  {
   "cell_type": "code",
   "execution_count": 262,
   "metadata": {},
   "outputs": [],
   "source": []
  },
  {
   "cell_type": "code",
   "execution_count": null,
   "metadata": {},
   "outputs": [],
   "source": []
  }
 ],
 "metadata": {
  "kernelspec": {
   "display_name": "Python 3",
   "language": "python",
   "name": "python3"
  },
  "language_info": {
   "codemirror_mode": {
    "name": "ipython",
    "version": 3
   },
   "file_extension": ".py",
   "mimetype": "text/x-python",
   "name": "python",
   "nbconvert_exporter": "python",
   "pygments_lexer": "ipython3",
   "version": "3.7.3"
  }
 },
 "nbformat": 4,
 "nbformat_minor": 2
}
